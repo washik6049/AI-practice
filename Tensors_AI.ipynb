{
  "cells": [
    {
      "cell_type": "code",
      "execution_count": null,
      "id": "f6d5aaa0",
      "metadata": {
        "id": "f6d5aaa0"
      },
      "outputs": [],
      "source": [
        "import torch\n",
        "import numpy as np"
      ]
    },
    {
      "cell_type": "code",
      "execution_count": null,
      "id": "54eb9df4",
      "metadata": {
        "colab": {
          "base_uri": "https://localhost:8080/"
        },
        "id": "54eb9df4",
        "outputId": "0f31111c-f3e0-4a2f-886f-2eb23a306c87"
      },
      "outputs": [
        {
          "output_type": "execute_result",
          "data": {
            "text/plain": [
              "tensor([[1, 2],\n",
              "        [3, 4]])"
            ]
          },
          "metadata": {},
          "execution_count": 53
        }
      ],
      "source": [
        "data=[[1,2],[3,4]]\n",
        "x_data= torch.tensor(data)\n",
        "x_data"
      ]
    },
    {
      "cell_type": "code",
      "execution_count": null,
      "id": "d747914c",
      "metadata": {
        "colab": {
          "base_uri": "https://localhost:8080/"
        },
        "id": "d747914c",
        "outputId": "21c430de-30d3-4ac1-cd87-b6e4dfcfbea5"
      },
      "outputs": [
        {
          "output_type": "execute_result",
          "data": {
            "text/plain": [
              "array([[1, 2],\n",
              "       [3, 4]])"
            ]
          },
          "metadata": {},
          "execution_count": 54
        }
      ],
      "source": [
        "arr=np.array(data)\n",
        "arr"
      ]
    },
    {
      "cell_type": "code",
      "execution_count": null,
      "id": "c535d922",
      "metadata": {
        "colab": {
          "base_uri": "https://localhost:8080/"
        },
        "id": "c535d922",
        "outputId": "88e3cb1f-c811-439d-8027-753bce2d745b"
      },
      "outputs": [
        {
          "output_type": "execute_result",
          "data": {
            "text/plain": [
              "tensor([[1, 2],\n",
              "        [3, 4]])"
            ]
          },
          "metadata": {},
          "execution_count": 55
        }
      ],
      "source": [
        "x=torch.from_numpy(arr)\n",
        "x"
      ]
    },
    {
      "cell_type": "code",
      "execution_count": null,
      "id": "8b0cf6f3",
      "metadata": {
        "colab": {
          "base_uri": "https://localhost:8080/"
        },
        "id": "8b0cf6f3",
        "outputId": "2be6e7e4-71b5-4d40-848f-11fa9c253a37"
      },
      "outputs": [
        {
          "output_type": "execute_result",
          "data": {
            "text/plain": [
              "tensor([[1, 1],\n",
              "        [1, 1]])"
            ]
          },
          "metadata": {},
          "execution_count": 56
        }
      ],
      "source": [
        "x_ones= torch.ones_like(x)\n",
        "x_ones"
      ]
    },
    {
      "cell_type": "code",
      "execution_count": null,
      "id": "7c49c27c",
      "metadata": {
        "colab": {
          "base_uri": "https://localhost:8080/"
        },
        "id": "7c49c27c",
        "outputId": "4cb60df7-f770-4ff8-b9df-7d8af9f09a87"
      },
      "outputs": [
        {
          "output_type": "execute_result",
          "data": {
            "text/plain": [
              "tensor([[0, 0],\n",
              "        [0, 0]])"
            ]
          },
          "metadata": {},
          "execution_count": 57
        }
      ],
      "source": [
        "x_zeros= torch.zeros_like(x)\n",
        "x_zeros"
      ]
    },
    {
      "cell_type": "code",
      "execution_count": null,
      "id": "8ac2e096",
      "metadata": {
        "colab": {
          "base_uri": "https://localhost:8080/"
        },
        "id": "8ac2e096",
        "outputId": "c3746c9f-8aed-43a6-ba35-126031f71cd1"
      },
      "outputs": [
        {
          "output_type": "execute_result",
          "data": {
            "text/plain": [
              "tensor([[0.1626, 0.6713],\n",
              "        [0.9034, 0.6422]])"
            ]
          },
          "metadata": {},
          "execution_count": 58
        }
      ],
      "source": [
        "x_rand= torch.rand_like(x, dtype=torch.float)\n",
        "x_rand"
      ]
    },
    {
      "cell_type": "code",
      "execution_count": null,
      "id": "a942fd8d",
      "metadata": {
        "colab": {
          "base_uri": "https://localhost:8080/"
        },
        "id": "a942fd8d",
        "outputId": "7366b2f6-9310-474a-9861-09f0bf300aaa"
      },
      "outputs": [
        {
          "output_type": "execute_result",
          "data": {
            "text/plain": [
              "tensor([[0.4378, 0.0625, 0.6294],\n",
              "        [0.9461, 0.1892, 0.0622]])"
            ]
          },
          "metadata": {},
          "execution_count": 94
        }
      ],
      "source": [
        "rand_tensor= torch.rand(2,3)\n",
        "rand_tensor"
      ]
    },
    {
      "cell_type": "code",
      "execution_count": null,
      "id": "1255f929",
      "metadata": {
        "colab": {
          "base_uri": "https://localhost:8080/"
        },
        "id": "1255f929",
        "outputId": "ec93f6db-be8c-4115-ca91-165591b3c55f"
      },
      "outputs": [
        {
          "output_type": "execute_result",
          "data": {
            "text/plain": [
              "tensor([[1., 1., 1.],\n",
              "        [1., 1., 1.]])"
            ]
          },
          "metadata": {},
          "execution_count": 60
        }
      ],
      "source": [
        "ones_tensor= torch.ones(2,3, dtype=torch.float32)\n",
        "ones_tensor"
      ]
    },
    {
      "cell_type": "code",
      "execution_count": null,
      "id": "6c82df3c",
      "metadata": {
        "colab": {
          "base_uri": "https://localhost:8080/"
        },
        "id": "6c82df3c",
        "outputId": "f77faac6-9b0d-40a7-a8b3-d85bd6281d8a"
      },
      "outputs": [
        {
          "output_type": "execute_result",
          "data": {
            "text/plain": [
              "tensor([[0., 0., 0.],\n",
              "        [0., 0., 0.]])"
            ]
          },
          "metadata": {},
          "execution_count": 61
        }
      ],
      "source": [
        "zeros_tensor= torch.zeros(2,3)\n",
        "zeros_tensor"
      ]
    },
    {
      "cell_type": "code",
      "execution_count": null,
      "id": "06e097d4",
      "metadata": {
        "colab": {
          "base_uri": "https://localhost:8080/"
        },
        "id": "06e097d4",
        "outputId": "5ac30b56-ca67-441e-e23e-0cb7c3983645"
      },
      "outputs": [
        {
          "output_type": "execute_result",
          "data": {
            "text/plain": [
              "torch.Size([2, 3])"
            ]
          },
          "metadata": {},
          "execution_count": 62
        }
      ],
      "source": [
        "rand_tensor.shape"
      ]
    },
    {
      "cell_type": "code",
      "execution_count": null,
      "id": "de6eada5",
      "metadata": {
        "colab": {
          "base_uri": "https://localhost:8080/"
        },
        "id": "de6eada5",
        "outputId": "9810111a-416a-40e2-bf46-071eba10b453"
      },
      "outputs": [
        {
          "output_type": "execute_result",
          "data": {
            "text/plain": [
              "torch.float32"
            ]
          },
          "metadata": {},
          "execution_count": 63
        }
      ],
      "source": [
        "rand_tensor.dtype"
      ]
    },
    {
      "cell_type": "code",
      "execution_count": null,
      "id": "1d923a62",
      "metadata": {
        "colab": {
          "base_uri": "https://localhost:8080/"
        },
        "id": "1d923a62",
        "outputId": "0693d434-4e74-404d-f53a-2510c6f8797a"
      },
      "outputs": [
        {
          "output_type": "execute_result",
          "data": {
            "text/plain": [
              "device(type='cpu')"
            ]
          },
          "metadata": {},
          "execution_count": 64
        }
      ],
      "source": [
        "rand_tensor.device"
      ]
    },
    {
      "cell_type": "code",
      "execution_count": null,
      "id": "baf06bea",
      "metadata": {
        "id": "baf06bea"
      },
      "outputs": [],
      "source": [
        "if torch.cuda.is_available():\n",
        "    rand_tensor = rand_tensor.to('cuda')"
      ]
    },
    {
      "cell_type": "code",
      "execution_count": null,
      "id": "addc0f46",
      "metadata": {
        "colab": {
          "base_uri": "https://localhost:8080/"
        },
        "id": "addc0f46",
        "outputId": "be8f8740-de40-4cf2-8b80-effb9a08ba84"
      },
      "outputs": [
        {
          "output_type": "execute_result",
          "data": {
            "text/plain": [
              "tensor([[0.3069, 0.0838, 0.5987],\n",
              "        [0.1243, 0.5177, 0.3607]])"
            ]
          },
          "metadata": {},
          "execution_count": 66
        }
      ],
      "source": [
        " rand_tensor"
      ]
    },
    {
      "cell_type": "code",
      "execution_count": null,
      "id": "789e2b78",
      "metadata": {
        "colab": {
          "base_uri": "https://localhost:8080/"
        },
        "id": "789e2b78",
        "outputId": "2b86e35b-a990-4229-f520-0513d580cf36"
      },
      "outputs": [
        {
          "output_type": "execute_result",
          "data": {
            "text/plain": [
              "tensor([[0.3069, 1.0000, 0.5987],\n",
              "        [0.1243, 1.0000, 0.3607]])"
            ]
          },
          "metadata": {},
          "execution_count": 67
        }
      ],
      "source": [
        "rand_tensor[:,1]=1\n",
        "rand_tensor"
      ]
    },
    {
      "cell_type": "code",
      "execution_count": null,
      "id": "b1ba89e1",
      "metadata": {
        "colab": {
          "base_uri": "https://localhost:8080/"
        },
        "id": "b1ba89e1",
        "outputId": "c46bef51-c238-4832-cdf1-5b10555dc721"
      },
      "outputs": [
        {
          "output_type": "execute_result",
          "data": {
            "text/plain": [
              "tensor([0.3069, 1.0000, 0.5987])"
            ]
          },
          "metadata": {},
          "execution_count": 68
        }
      ],
      "source": [
        "rand_tensor[0]"
      ]
    },
    {
      "cell_type": "code",
      "execution_count": null,
      "id": "d147b3b2",
      "metadata": {
        "colab": {
          "base_uri": "https://localhost:8080/"
        },
        "id": "d147b3b2",
        "outputId": "28d85040-555b-4c16-8ae4-511e231f4700"
      },
      "outputs": [
        {
          "output_type": "execute_result",
          "data": {
            "text/plain": [
              "tensor([0.3069, 0.1243])"
            ]
          },
          "metadata": {},
          "execution_count": 69
        }
      ],
      "source": [
        "rand_tensor[:,0]"
      ]
    },
    {
      "cell_type": "code",
      "execution_count": null,
      "id": "b3cb4dad",
      "metadata": {
        "colab": {
          "base_uri": "https://localhost:8080/"
        },
        "id": "b3cb4dad",
        "outputId": "87d47763-5324-453e-aef6-7c0600e4d178"
      },
      "outputs": [
        {
          "output_type": "execute_result",
          "data": {
            "text/plain": [
              "tensor([0.5987, 0.3607])"
            ]
          },
          "metadata": {},
          "execution_count": 70
        }
      ],
      "source": [
        "rand_tensor[...,-1]"
      ]
    },
    {
      "cell_type": "code",
      "execution_count": null,
      "id": "9c1e9707",
      "metadata": {
        "colab": {
          "base_uri": "https://localhost:8080/"
        },
        "id": "9c1e9707",
        "outputId": "dd69dead-08b4-4f0e-810b-1b81d1327364"
      },
      "outputs": [
        {
          "output_type": "execute_result",
          "data": {
            "text/plain": [
              "tensor(3.3906)"
            ]
          },
          "metadata": {},
          "execution_count": 71
        }
      ],
      "source": [
        "rand_tensor.sum()"
      ]
    },
    {
      "cell_type": "code",
      "execution_count": null,
      "id": "13f6ca2c",
      "metadata": {
        "colab": {
          "base_uri": "https://localhost:8080/"
        },
        "id": "13f6ca2c",
        "outputId": "77f2ca60-cc3a-4889-ecf8-75968d6e8dd4"
      },
      "outputs": [
        {
          "output_type": "execute_result",
          "data": {
            "text/plain": [
              "3.3906478881835938"
            ]
          },
          "metadata": {},
          "execution_count": 72
        }
      ],
      "source": [
        "rand_tensor.sum().item()"
      ]
    },
    {
      "cell_type": "code",
      "execution_count": null,
      "id": "0dc9ff6f",
      "metadata": {
        "colab": {
          "base_uri": "https://localhost:8080/"
        },
        "id": "0dc9ff6f",
        "outputId": "15f4964d-f1f1-426b-fb66-8ea464b9b4dc"
      },
      "outputs": [
        {
          "output_type": "execute_result",
          "data": {
            "text/plain": [
              "tensor([[0.3069, 1.0000, 0.5987, 0.0000, 0.0000, 0.0000],\n",
              "        [0.1243, 1.0000, 0.3607, 0.0000, 0.0000, 0.0000]])"
            ]
          },
          "metadata": {},
          "execution_count": 73
        }
      ],
      "source": [
        "t1= torch.cat([rand_tensor, zeros_tensor],dim=1)\n",
        "t1"
      ]
    },
    {
      "cell_type": "code",
      "execution_count": null,
      "id": "75cda023",
      "metadata": {
        "colab": {
          "base_uri": "https://localhost:8080/"
        },
        "id": "75cda023",
        "outputId": "777c46b5-2949-4e14-8603-3ac8b37b4200"
      },
      "outputs": [
        {
          "output_type": "execute_result",
          "data": {
            "text/plain": [
              "tensor([[0.3069, 1.0000, 0.5987],\n",
              "        [0.1243, 1.0000, 0.3607],\n",
              "        [0.0000, 0.0000, 0.0000],\n",
              "        [0.0000, 0.0000, 0.0000]])"
            ]
          },
          "metadata": {},
          "execution_count": 74
        }
      ],
      "source": [
        "t2= torch.cat([rand_tensor, zeros_tensor],dim=0)\n",
        "t2"
      ]
    },
    {
      "cell_type": "code",
      "execution_count": null,
      "id": "1ae20314",
      "metadata": {
        "colab": {
          "base_uri": "https://localhost:8080/"
        },
        "id": "1ae20314",
        "outputId": "3ae32eb4-486a-45c0-bbe5-b95bcad62373"
      },
      "outputs": [
        {
          "output_type": "execute_result",
          "data": {
            "text/plain": [
              "tensor([[0.3069, 1.0000, 0.5987],\n",
              "        [0.1243, 1.0000, 0.3607]])"
            ]
          },
          "metadata": {},
          "execution_count": 75
        }
      ],
      "source": [
        "rand_tensor.mul(ones_tensor)"
      ]
    },
    {
      "cell_type": "code",
      "execution_count": null,
      "id": "ab397f6c",
      "metadata": {
        "colab": {
          "base_uri": "https://localhost:8080/"
        },
        "id": "ab397f6c",
        "outputId": "81efae7f-75cd-4f75-9e77-1aabe01be8a5"
      },
      "outputs": [
        {
          "output_type": "execute_result",
          "data": {
            "text/plain": [
              "tensor([[1.4527, 1.2541],\n",
              "        [1.2541, 1.1455]])"
            ]
          },
          "metadata": {},
          "execution_count": 76
        }
      ],
      "source": [
        "rand_tensor.matmul(rand_tensor.T)"
      ]
    },
    {
      "cell_type": "code",
      "execution_count": null,
      "id": "c2678701",
      "metadata": {
        "colab": {
          "base_uri": "https://localhost:8080/"
        },
        "id": "c2678701",
        "outputId": "e91846c7-9d1f-44d1-b760-9e4bd215539d"
      },
      "outputs": [
        {
          "output_type": "execute_result",
          "data": {
            "text/plain": [
              "tensor([[5.3069, 6.0000, 5.5987],\n",
              "        [5.1243, 6.0000, 5.3607]])"
            ]
          },
          "metadata": {},
          "execution_count": 77
        }
      ],
      "source": [
        "rand_tensor.add_(5)"
      ]
    },
    {
      "cell_type": "code",
      "execution_count": null,
      "id": "a914df74",
      "metadata": {
        "colab": {
          "base_uri": "https://localhost:8080/"
        },
        "id": "a914df74",
        "outputId": "a6a75640-b85b-43d4-fa34-197f413c8730"
      },
      "outputs": [
        {
          "output_type": "execute_result",
          "data": {
            "text/plain": [
              "array([1., 1., 1., 1., 1.])"
            ]
          },
          "metadata": {},
          "execution_count": 95
        }
      ],
      "source": [
        "n= np.ones(5)\n",
        "n"
      ]
    },
    {
      "cell_type": "code",
      "execution_count": null,
      "id": "7239be0f",
      "metadata": {
        "colab": {
          "base_uri": "https://localhost:8080/"
        },
        "id": "7239be0f",
        "outputId": "7acb6922-ed6e-464d-b3ce-ce6aed58218a"
      },
      "outputs": [
        {
          "output_type": "execute_result",
          "data": {
            "text/plain": [
              "tensor([1., 1., 1., 1., 1.], dtype=torch.float64)"
            ]
          },
          "metadata": {},
          "execution_count": 79
        }
      ],
      "source": [
        "t=torch.from_numpy(n)\n",
        "t"
      ]
    },
    {
      "cell_type": "code",
      "execution_count": null,
      "id": "0fcf8463",
      "metadata": {
        "colab": {
          "base_uri": "https://localhost:8080/"
        },
        "id": "0fcf8463",
        "outputId": "174f13ee-3250-45c3-f3e4-b265424a4693"
      },
      "outputs": [
        {
          "output_type": "execute_result",
          "data": {
            "text/plain": [
              "tensor([2., 2., 2., 2., 2.], dtype=torch.float64)"
            ]
          },
          "metadata": {},
          "execution_count": 80
        }
      ],
      "source": [
        "t.add_(1)"
      ]
    },
    {
      "cell_type": "code",
      "execution_count": null,
      "id": "767d2790",
      "metadata": {
        "colab": {
          "base_uri": "https://localhost:8080/"
        },
        "id": "767d2790",
        "outputId": "1f8ab7fa-2d82-448c-f812-77a87c1d44e0"
      },
      "outputs": [
        {
          "output_type": "stream",
          "name": "stdout",
          "text": [
            "tensor([-2.4644e+22])\n"
          ]
        }
      ],
      "source": [
        "x = torch.empty(1)\n",
        "print(x)"
      ]
    },
    {
      "cell_type": "code",
      "execution_count": null,
      "id": "57edc9ef",
      "metadata": {
        "colab": {
          "base_uri": "https://localhost:8080/"
        },
        "id": "57edc9ef",
        "outputId": "5b049077-691b-411a-d8d0-06155b0b8f51"
      },
      "outputs": [
        {
          "output_type": "execute_result",
          "data": {
            "text/plain": [
              "torch.Size([1])"
            ]
          },
          "metadata": {},
          "execution_count": 82
        }
      ],
      "source": [
        "x.size()"
      ]
    },
    {
      "cell_type": "code",
      "execution_count": null,
      "id": "381bcc02",
      "metadata": {
        "colab": {
          "base_uri": "https://localhost:8080/"
        },
        "id": "381bcc02",
        "outputId": "ef8a0668-4113-48e9-e386-b51644a004c8"
      },
      "outputs": [
        {
          "output_type": "stream",
          "name": "stdout",
          "text": [
            "tensor([[-2.0393e-16,  4.5073e-41, -2.4647e+22],\n",
            "        [ 3.1494e-41,  4.4842e-44,  0.0000e+00]])\n"
          ]
        }
      ],
      "source": [
        "x = torch.empty(2,3)\n",
        "print(x)"
      ]
    },
    {
      "cell_type": "code",
      "execution_count": null,
      "id": "00ff73db",
      "metadata": {
        "colab": {
          "base_uri": "https://localhost:8080/"
        },
        "id": "00ff73db",
        "outputId": "f5396c19-15bd-46ad-9536-e46edac9ddbe"
      },
      "outputs": [
        {
          "output_type": "execute_result",
          "data": {
            "text/plain": [
              "tensor([[[-2.0393e-16,  4.5073e-41, -2.0393e-16],\n",
              "         [ 4.5073e-41,  0.0000e+00,  0.0000e+00]],\n",
              "\n",
              "        [[ 0.0000e+00,  0.0000e+00,  0.0000e+00],\n",
              "         [ 3.1494e-41,  7.7052e+31,  7.2148e+22]]])"
            ]
          },
          "metadata": {},
          "execution_count": 84
        }
      ],
      "source": [
        "torch.empty(2,2,3)"
      ]
    },
    {
      "cell_type": "code",
      "execution_count": null,
      "id": "710a8b0a",
      "metadata": {
        "colab": {
          "base_uri": "https://localhost:8080/"
        },
        "id": "710a8b0a",
        "outputId": "dcc30d52-f822-4728-8478-f1d86e8fc703"
      },
      "outputs": [
        {
          "output_type": "execute_result",
          "data": {
            "text/plain": [
              "tensor([-2.0393e-16,  4.5073e-41, -2.4647e+22,  3.1494e-41,  4.4842e-44,\n",
              "         0.0000e+00])"
            ]
          },
          "metadata": {},
          "execution_count": 85
        }
      ],
      "source": [
        "y=x.view(6)\n",
        "y"
      ]
    },
    {
      "cell_type": "code",
      "execution_count": null,
      "id": "3f9f3100",
      "metadata": {
        "colab": {
          "base_uri": "https://localhost:8080/"
        },
        "id": "3f9f3100",
        "outputId": "4856917f-eec1-406d-a611-a32f63c5f726"
      },
      "outputs": [
        {
          "output_type": "execute_result",
          "data": {
            "text/plain": [
              "tensor([[-2.0393e-16,  4.5073e-41, -2.4647e+22,  3.1494e-41,  4.4842e-44,\n",
              "          0.0000e+00]])"
            ]
          },
          "metadata": {},
          "execution_count": 86
        }
      ],
      "source": [
        "z=x.view(1,-1)\n",
        "z"
      ]
    },
    {
      "cell_type": "code",
      "execution_count": null,
      "id": "ef1cf9b1",
      "metadata": {
        "colab": {
          "base_uri": "https://localhost:8080/"
        },
        "id": "ef1cf9b1",
        "outputId": "abd2866b-6b60-4199-9fd0-73064ae3f655"
      },
      "outputs": [
        {
          "output_type": "execute_result",
          "data": {
            "text/plain": [
              "(tensor([[1., 1.],\n",
              "         [1., 1.]]),\n",
              " tensor([[1., 1.],\n",
              "         [1., 1.]]))"
            ]
          },
          "metadata": {},
          "execution_count": 87
        }
      ],
      "source": [
        "a= torch.ones(2,2)\n",
        "b= torch.ones(2,2)\n",
        "a,b"
      ]
    },
    {
      "cell_type": "code",
      "execution_count": null,
      "id": "115f2bee",
      "metadata": {
        "colab": {
          "base_uri": "https://localhost:8080/"
        },
        "id": "115f2bee",
        "outputId": "91f0bd43-55a4-4bc8-c7dc-f1a2437126c4"
      },
      "outputs": [
        {
          "output_type": "execute_result",
          "data": {
            "text/plain": [
              "tensor([[2., 2.],\n",
              "        [2., 2.]])"
            ]
          },
          "metadata": {},
          "execution_count": 88
        }
      ],
      "source": [
        "a+b"
      ]
    },
    {
      "cell_type": "code",
      "execution_count": null,
      "id": "394d84ca",
      "metadata": {
        "colab": {
          "base_uri": "https://localhost:8080/"
        },
        "id": "394d84ca",
        "outputId": "0108e576-7a06-479a-88d2-14458a6bac21"
      },
      "outputs": [
        {
          "output_type": "execute_result",
          "data": {
            "text/plain": [
              "tensor([[0., 0.],\n",
              "        [0., 0.]])"
            ]
          },
          "metadata": {},
          "execution_count": 89
        }
      ],
      "source": [
        "a-b"
      ]
    },
    {
      "cell_type": "code",
      "execution_count": null,
      "id": "7f0a6ce5",
      "metadata": {
        "colab": {
          "base_uri": "https://localhost:8080/"
        },
        "id": "7f0a6ce5",
        "outputId": "f5b214c0-94dc-48ce-82f2-b8f088e262f6"
      },
      "outputs": [
        {
          "output_type": "execute_result",
          "data": {
            "text/plain": [
              "tensor([[1., 1.],\n",
              "        [1., 1.]])"
            ]
          },
          "metadata": {},
          "execution_count": 90
        }
      ],
      "source": [
        "a*b"
      ]
    },
    {
      "cell_type": "code",
      "execution_count": null,
      "id": "f5607395",
      "metadata": {
        "colab": {
          "base_uri": "https://localhost:8080/"
        },
        "id": "f5607395",
        "outputId": "785cc6e1-a6ee-4dec-e55c-84e4b75933b2"
      },
      "outputs": [
        {
          "output_type": "execute_result",
          "data": {
            "text/plain": [
              "tensor([[1., 1.],\n",
              "        [1., 1.]])"
            ]
          },
          "metadata": {},
          "execution_count": 91
        }
      ],
      "source": [
        "a/b"
      ]
    },
    {
      "cell_type": "code",
      "execution_count": null,
      "id": "7b39c12b",
      "metadata": {
        "colab": {
          "base_uri": "https://localhost:8080/"
        },
        "id": "7b39c12b",
        "outputId": "5cfa4fe8-258a-4550-cf9a-944c6d00d349"
      },
      "outputs": [
        {
          "output_type": "execute_result",
          "data": {
            "text/plain": [
              "1.0"
            ]
          },
          "metadata": {},
          "execution_count": 92
        }
      ],
      "source": [
        "a[1,1].item()"
      ]
    },
    {
      "cell_type": "code",
      "execution_count": null,
      "id": "e4a12002",
      "metadata": {
        "colab": {
          "base_uri": "https://localhost:8080/"
        },
        "id": "e4a12002",
        "outputId": "c51f3258-74b4-405e-ca57-435c7b645827"
      },
      "outputs": [
        {
          "output_type": "execute_result",
          "data": {
            "text/plain": [
              "tensor([[50, 50, 50],\n",
              "        [50, 50, 50]])"
            ]
          },
          "metadata": {},
          "execution_count": 93
        }
      ],
      "source": [
        "torch.full((2,3),50)"
      ]
    }
  ],
  "metadata": {
    "kernelspec": {
      "display_name": "Python 3 (ipykernel)",
      "language": "python",
      "name": "python3"
    },
    "language_info": {
      "codemirror_mode": {
        "name": "ipython",
        "version": 3
      },
      "file_extension": ".py",
      "mimetype": "text/x-python",
      "name": "python",
      "nbconvert_exporter": "python",
      "pygments_lexer": "ipython3",
      "version": "3.9.13"
    },
    "colab": {
      "provenance": []
    }
  },
  "nbformat": 4,
  "nbformat_minor": 5
}